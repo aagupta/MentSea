{
 "cells": [
  {
   "cell_type": "code",
   "execution_count": 100,
   "metadata": {},
   "outputs": [],
   "source": [
    "import pandas as pd\n",
    "import numpy as np\n",
    "# from sklearn.model_selection import train_test_split\n",
    "from sklearn.model_selection import RepeatedStratifiedKFold\n",
    "from sklearn.ensemble import RandomForestClassifier\n",
    "from sklearn.metrics import f1_score, accuracy_score\n",
    "\n"
   ]
  },
  {
   "cell_type": "code",
   "execution_count": 101,
   "metadata": {},
   "outputs": [],
   "source": [
    "features = pd.read_csv('https://raw.githubusercontent.com/aagupta/MentalAid/main/stats_train.csv')"
   ]
  },
  {
   "cell_type": "code",
   "execution_count": 102,
   "metadata": {},
   "outputs": [
    {
     "data": {
      "text/html": [
       "<div>\n",
       "<style scoped>\n",
       "    .dataframe tbody tr th:only-of-type {\n",
       "        vertical-align: middle;\n",
       "    }\n",
       "\n",
       "    .dataframe tbody tr th {\n",
       "        vertical-align: top;\n",
       "    }\n",
       "\n",
       "    .dataframe thead th {\n",
       "        text-align: right;\n",
       "    }\n",
       "</style>\n",
       "<table border=\"1\" class=\"dataframe\">\n",
       "  <thead>\n",
       "    <tr style=\"text-align: right;\">\n",
       "      <th></th>\n",
       "      <th>Unnamed: 0</th>\n",
       "      <th>Unnamed: 0.1</th>\n",
       "      <th>JWTRNS_8.0</th>\n",
       "      <th>HISP_2</th>\n",
       "      <th>HISP_4</th>\n",
       "      <th>HISP_21</th>\n",
       "      <th>HISP_24</th>\n",
       "      <th>OCCP_6240.0</th>\n",
       "      <th>OCCP_9830.0</th>\n",
       "      <th>RAC1P_3</th>\n",
       "      <th>...</th>\n",
       "      <th>PAP</th>\n",
       "      <th>RETP</th>\n",
       "      <th>SEMP</th>\n",
       "      <th>SSIP</th>\n",
       "      <th>SSP</th>\n",
       "      <th>WAGP</th>\n",
       "      <th>PERNP</th>\n",
       "      <th>PINCP</th>\n",
       "      <th>POVPIP</th>\n",
       "      <th>Label_y</th>\n",
       "    </tr>\n",
       "  </thead>\n",
       "  <tbody>\n",
       "    <tr>\n",
       "      <th>count</th>\n",
       "      <td>50.00000</td>\n",
       "      <td>50.00000</td>\n",
       "      <td>50.000000</td>\n",
       "      <td>50.000000</td>\n",
       "      <td>50.000000</td>\n",
       "      <td>50.000000</td>\n",
       "      <td>50.000000</td>\n",
       "      <td>50.000000</td>\n",
       "      <td>50.000000</td>\n",
       "      <td>50.000000</td>\n",
       "      <td>...</td>\n",
       "      <td>50.000000</td>\n",
       "      <td>50.000000</td>\n",
       "      <td>50.000000</td>\n",
       "      <td>50.000000</td>\n",
       "      <td>50.000000</td>\n",
       "      <td>50.000000</td>\n",
       "      <td>50.000000</td>\n",
       "      <td>50.000000</td>\n",
       "      <td>50.000000</td>\n",
       "      <td>50.000000</td>\n",
       "    </tr>\n",
       "    <tr>\n",
       "      <th>mean</th>\n",
       "      <td>24.50000</td>\n",
       "      <td>24.50000</td>\n",
       "      <td>0.000818</td>\n",
       "      <td>0.053039</td>\n",
       "      <td>0.002902</td>\n",
       "      <td>0.000477</td>\n",
       "      <td>0.006413</td>\n",
       "      <td>0.000459</td>\n",
       "      <td>0.001034</td>\n",
       "      <td>0.017299</td>\n",
       "      <td>...</td>\n",
       "      <td>35.648318</td>\n",
       "      <td>2655.236711</td>\n",
       "      <td>2003.132359</td>\n",
       "      <td>274.364432</td>\n",
       "      <td>3433.023516</td>\n",
       "      <td>26908.274381</td>\n",
       "      <td>29349.608940</td>\n",
       "      <td>38249.143076</td>\n",
       "      <td>316.567511</td>\n",
       "      <td>0.500000</td>\n",
       "    </tr>\n",
       "    <tr>\n",
       "      <th>std</th>\n",
       "      <td>14.57738</td>\n",
       "      <td>14.57738</td>\n",
       "      <td>0.000448</td>\n",
       "      <td>0.070908</td>\n",
       "      <td>0.008860</td>\n",
       "      <td>0.001060</td>\n",
       "      <td>0.015663</td>\n",
       "      <td>0.000209</td>\n",
       "      <td>0.001648</td>\n",
       "      <td>0.033427</td>\n",
       "      <td>...</td>\n",
       "      <td>19.521194</td>\n",
       "      <td>529.978654</td>\n",
       "      <td>685.284606</td>\n",
       "      <td>55.427919</td>\n",
       "      <td>437.502744</td>\n",
       "      <td>4851.629428</td>\n",
       "      <td>5130.024365</td>\n",
       "      <td>5432.707367</td>\n",
       "      <td>26.729865</td>\n",
       "      <td>0.505076</td>\n",
       "    </tr>\n",
       "    <tr>\n",
       "      <th>min</th>\n",
       "      <td>0.00000</td>\n",
       "      <td>0.00000</td>\n",
       "      <td>0.000168</td>\n",
       "      <td>0.002031</td>\n",
       "      <td>0.000000</td>\n",
       "      <td>0.000000</td>\n",
       "      <td>0.000806</td>\n",
       "      <td>0.000075</td>\n",
       "      <td>0.000115</td>\n",
       "      <td>0.000952</td>\n",
       "      <td>...</td>\n",
       "      <td>17.188898</td>\n",
       "      <td>1677.891463</td>\n",
       "      <td>981.356118</td>\n",
       "      <td>176.473332</td>\n",
       "      <td>1957.018217</td>\n",
       "      <td>19570.108158</td>\n",
       "      <td>21043.595826</td>\n",
       "      <td>29288.905131</td>\n",
       "      <td>266.915171</td>\n",
       "      <td>0.000000</td>\n",
       "    </tr>\n",
       "    <tr>\n",
       "      <th>25%</th>\n",
       "      <td>12.25000</td>\n",
       "      <td>12.25000</td>\n",
       "      <td>0.000488</td>\n",
       "      <td>0.016290</td>\n",
       "      <td>0.000773</td>\n",
       "      <td>0.000158</td>\n",
       "      <td>0.001843</td>\n",
       "      <td>0.000315</td>\n",
       "      <td>0.000309</td>\n",
       "      <td>0.002060</td>\n",
       "      <td>...</td>\n",
       "      <td>23.827000</td>\n",
       "      <td>2293.326944</td>\n",
       "      <td>1553.983581</td>\n",
       "      <td>235.705637</td>\n",
       "      <td>3170.639068</td>\n",
       "      <td>23678.315375</td>\n",
       "      <td>25993.934507</td>\n",
       "      <td>34834.712009</td>\n",
       "      <td>300.132626</td>\n",
       "      <td>0.000000</td>\n",
       "    </tr>\n",
       "    <tr>\n",
       "      <th>50%</th>\n",
       "      <td>24.50000</td>\n",
       "      <td>24.50000</td>\n",
       "      <td>0.000718</td>\n",
       "      <td>0.024828</td>\n",
       "      <td>0.001283</td>\n",
       "      <td>0.000279</td>\n",
       "      <td>0.002706</td>\n",
       "      <td>0.000397</td>\n",
       "      <td>0.000664</td>\n",
       "      <td>0.004399</td>\n",
       "      <td>...</td>\n",
       "      <td>29.700560</td>\n",
       "      <td>2630.409403</td>\n",
       "      <td>1907.799930</td>\n",
       "      <td>266.609911</td>\n",
       "      <td>3519.973194</td>\n",
       "      <td>25978.249276</td>\n",
       "      <td>28314.561203</td>\n",
       "      <td>36983.571309</td>\n",
       "      <td>312.555094</td>\n",
       "      <td>0.500000</td>\n",
       "    </tr>\n",
       "    <tr>\n",
       "      <th>75%</th>\n",
       "      <td>36.75000</td>\n",
       "      <td>36.75000</td>\n",
       "      <td>0.001029</td>\n",
       "      <td>0.061690</td>\n",
       "      <td>0.002108</td>\n",
       "      <td>0.000433</td>\n",
       "      <td>0.005170</td>\n",
       "      <td>0.000589</td>\n",
       "      <td>0.001106</td>\n",
       "      <td>0.012826</td>\n",
       "      <td>...</td>\n",
       "      <td>38.795257</td>\n",
       "      <td>2956.292923</td>\n",
       "      <td>2304.801003</td>\n",
       "      <td>306.105925</td>\n",
       "      <td>3683.270077</td>\n",
       "      <td>29094.621968</td>\n",
       "      <td>32398.439301</td>\n",
       "      <td>41486.061729</td>\n",
       "      <td>336.499136</td>\n",
       "      <td>1.000000</td>\n",
       "    </tr>\n",
       "    <tr>\n",
       "      <th>max</th>\n",
       "      <td>49.00000</td>\n",
       "      <td>49.00000</td>\n",
       "      <td>0.002252</td>\n",
       "      <td>0.293985</td>\n",
       "      <td>0.063215</td>\n",
       "      <td>0.007639</td>\n",
       "      <td>0.110369</td>\n",
       "      <td>0.001001</td>\n",
       "      <td>0.011472</td>\n",
       "      <td>0.178904</td>\n",
       "      <td>...</td>\n",
       "      <td>133.415149</td>\n",
       "      <td>4254.678586</td>\n",
       "      <td>4925.406935</td>\n",
       "      <td>409.923664</td>\n",
       "      <td>4317.528922</td>\n",
       "      <td>39496.538143</td>\n",
       "      <td>42952.350407</td>\n",
       "      <td>53639.140846</td>\n",
       "      <td>371.067450</td>\n",
       "      <td>1.000000</td>\n",
       "    </tr>\n",
       "  </tbody>\n",
       "</table>\n",
       "<p>8 rows × 40 columns</p>\n",
       "</div>"
      ],
      "text/plain": [
       "       Unnamed: 0  Unnamed: 0.1  JWTRNS_8.0     HISP_2     HISP_4    HISP_21  \\\n",
       "count    50.00000      50.00000   50.000000  50.000000  50.000000  50.000000   \n",
       "mean     24.50000      24.50000    0.000818   0.053039   0.002902   0.000477   \n",
       "std      14.57738      14.57738    0.000448   0.070908   0.008860   0.001060   \n",
       "min       0.00000       0.00000    0.000168   0.002031   0.000000   0.000000   \n",
       "25%      12.25000      12.25000    0.000488   0.016290   0.000773   0.000158   \n",
       "50%      24.50000      24.50000    0.000718   0.024828   0.001283   0.000279   \n",
       "75%      36.75000      36.75000    0.001029   0.061690   0.002108   0.000433   \n",
       "max      49.00000      49.00000    0.002252   0.293985   0.063215   0.007639   \n",
       "\n",
       "         HISP_24  OCCP_6240.0  OCCP_9830.0    RAC1P_3  ...         PAP  \\\n",
       "count  50.000000    50.000000    50.000000  50.000000  ...   50.000000   \n",
       "mean    0.006413     0.000459     0.001034   0.017299  ...   35.648318   \n",
       "std     0.015663     0.000209     0.001648   0.033427  ...   19.521194   \n",
       "min     0.000806     0.000075     0.000115   0.000952  ...   17.188898   \n",
       "25%     0.001843     0.000315     0.000309   0.002060  ...   23.827000   \n",
       "50%     0.002706     0.000397     0.000664   0.004399  ...   29.700560   \n",
       "75%     0.005170     0.000589     0.001106   0.012826  ...   38.795257   \n",
       "max     0.110369     0.001001     0.011472   0.178904  ...  133.415149   \n",
       "\n",
       "              RETP         SEMP        SSIP          SSP          WAGP  \\\n",
       "count    50.000000    50.000000   50.000000    50.000000     50.000000   \n",
       "mean   2655.236711  2003.132359  274.364432  3433.023516  26908.274381   \n",
       "std     529.978654   685.284606   55.427919   437.502744   4851.629428   \n",
       "min    1677.891463   981.356118  176.473332  1957.018217  19570.108158   \n",
       "25%    2293.326944  1553.983581  235.705637  3170.639068  23678.315375   \n",
       "50%    2630.409403  1907.799930  266.609911  3519.973194  25978.249276   \n",
       "75%    2956.292923  2304.801003  306.105925  3683.270077  29094.621968   \n",
       "max    4254.678586  4925.406935  409.923664  4317.528922  39496.538143   \n",
       "\n",
       "              PERNP         PINCP      POVPIP    Label_y  \n",
       "count     50.000000     50.000000   50.000000  50.000000  \n",
       "mean   29349.608940  38249.143076  316.567511   0.500000  \n",
       "std     5130.024365   5432.707367   26.729865   0.505076  \n",
       "min    21043.595826  29288.905131  266.915171   0.000000  \n",
       "25%    25993.934507  34834.712009  300.132626   0.000000  \n",
       "50%    28314.561203  36983.571309  312.555094   0.500000  \n",
       "75%    32398.439301  41486.061729  336.499136   1.000000  \n",
       "max    42952.350407  53639.140846  371.067450   1.000000  \n",
       "\n",
       "[8 rows x 40 columns]"
      ]
     },
     "execution_count": 102,
     "metadata": {},
     "output_type": "execute_result"
    }
   ],
   "source": [
    "features.describe()"
   ]
  },
  {
   "cell_type": "code",
   "execution_count": 103,
   "metadata": {},
   "outputs": [
    {
     "data": {
      "text/plain": [
       "Index(['Unnamed: 0', 'Unnamed: 0.1', 'JWTRNS_8.0', 'HISP_2', 'HISP_4',\n",
       "       'HISP_21', 'HISP_24', 'OCCP_6240.0', 'OCCP_9830.0', 'RAC1P_3',\n",
       "       'RAC1P_7', 'RAC1P_9', 'RACASN_0', 'RACASN_1', 'RACNH_0', 'RACNH_1',\n",
       "       'RACNUM_1', 'RACNUM_2', 'RACNUM_3', 'RACNUM_4', 'RACPI_0', 'RACPI_1',\n",
       "       'SFR_2.0', 'WAOB_8', 'OCCP_510.0', 'RACNUM_5', 'RACNUM_6',\n",
       "       'OCCP_2755.0', 'INTP', 'OIP', 'PAP', 'RETP', 'SEMP', 'SSIP', 'SSP',\n",
       "       'WAGP', 'PERNP', 'PINCP', 'POVPIP', 'Label_y'],\n",
       "      dtype='object')"
      ]
     },
     "execution_count": 103,
     "metadata": {},
     "output_type": "execute_result"
    }
   ],
   "source": [
    "features.columns"
   ]
  },
  {
   "cell_type": "code",
   "execution_count": 104,
   "metadata": {},
   "outputs": [],
   "source": [
    "labels = np.array(features['Label_y'])\n",
    "Opt_features = ['JWTRNS_8.0', 'HISP_2', 'HISP_4', 'HISP_21', 'HISP_24', 'OCCP_6240.0',\n",
    "       'OCCP_9830.0', 'RAC1P_3', 'RAC1P_9', 'RACASN_0', 'RACNUM_2', 'RACPI_1',\n",
    "       'SFR_2.0', 'WAOB_8', 'OCCP_510.0', 'RACNUM_5', 'RACNUM_6',\n",
    "       'OCCP_2755.0', 'INTP', 'OIP', 'PAP', 'RETP', 'SEMP', 'SSIP', 'SSP',\n",
    "       'WAGP', 'PERNP', 'PINCP', 'POVPIP']\n",
    "for i in features.columns:\n",
    "    if i not in Opt_features:\n",
    "        features= features.drop([i], axis = 1)"
   ]
  },
  {
   "cell_type": "code",
   "execution_count": 105,
   "metadata": {},
   "outputs": [
    {
     "data": {
      "text/plain": [
       "['JWTRNS_8.0',\n",
       " 'HISP_2',\n",
       " 'HISP_4',\n",
       " 'HISP_21',\n",
       " 'HISP_24',\n",
       " 'OCCP_6240.0',\n",
       " 'OCCP_9830.0',\n",
       " 'RAC1P_3',\n",
       " 'RAC1P_9',\n",
       " 'RACASN_0',\n",
       " 'RACNUM_2',\n",
       " 'RACPI_1',\n",
       " 'SFR_2.0',\n",
       " 'WAOB_8',\n",
       " 'OCCP_510.0',\n",
       " 'RACNUM_5',\n",
       " 'RACNUM_6',\n",
       " 'OCCP_2755.0',\n",
       " 'INTP',\n",
       " 'OIP',\n",
       " 'PAP',\n",
       " 'RETP',\n",
       " 'SEMP',\n",
       " 'SSIP',\n",
       " 'SSP',\n",
       " 'WAGP',\n",
       " 'PERNP',\n",
       " 'PINCP',\n",
       " 'POVPIP']"
      ]
     },
     "execution_count": 105,
     "metadata": {},
     "output_type": "execute_result"
    }
   ],
   "source": [
    "feature_list = list(features.columns)\n",
    "feature_list"
   ]
  },
  {
   "cell_type": "code",
   "execution_count": 108,
   "metadata": {},
   "outputs": [],
   "source": [
    "# Convert to numpy array\n",
    "features = np.array(features)"
   ]
  },
  {
   "cell_type": "code",
   "execution_count": 114,
   "metadata": {},
   "outputs": [],
   "source": [
    "# rskf = RepeatedStratifiedKFold(n_splits=4, n_repeats=10,random_state=None)\n",
    "from sklearn.model_selection import StratifiedKFold\n",
    "skf = StratifiedKFold(n_splits=10, random_state=None, shuffle=False)"
   ]
  },
  {
   "cell_type": "code",
   "execution_count": 127,
   "metadata": {},
   "outputs": [],
   "source": [
    "for train_index, test_index in skf.split(features,labels):\n",
    "     X_train, X_test = features[train_index], features[test_index]\n",
    "     y_train, y_test = labels[train_index], labels[test_index]"
   ]
  },
  {
   "cell_type": "code",
   "execution_count": 128,
   "metadata": {},
   "outputs": [],
   "source": [
    "model = RandomForestClassifier(bootstrap=True, ccp_alpha=0.0, class_weight=None,\n",
    "                       criterion='gini', max_depth=None, max_features='auto',\n",
    "                       max_leaf_nodes=None, max_samples=None,\n",
    "                       min_impurity_decrease=0.0, min_impurity_split=None,\n",
    "                       min_samples_leaf=1, min_samples_split=2,\n",
    "                       min_weight_fraction_leaf=0.0, n_estimators=100,\n",
    "                       n_jobs=-1, oob_score=False, random_state=3124, verbose=0,\n",
    "                       warm_start=False)\n",
    "model.fit(X_train, y_train)\n",
    "y_pred = model.predict(X_test)\n",
    "results.append(accuracy_score(y_test, y_pred))"
   ]
  },
  {
   "cell_type": "code",
   "execution_count": 129,
   "metadata": {},
   "outputs": [
    {
     "name": "stdout",
     "output_type": "stream",
     "text": [
      "Training Features Shape: (45, 29)\n",
      "Training Labels Shape: (5, 29)\n",
      "Testing Features Shape: (45,)\n",
      "Testing Labels Shape: (5,)\n"
     ]
    }
   ],
   "source": [
    "print('Training Features Shape:', X_train.shape)\n",
    "print('Training Labels Shape:', X_test.shape)\n",
    "print('Testing Features Shape:', y_train.shape)\n",
    "print('Testing Labels Shape:', y_test.shape)"
   ]
  },
  {
   "cell_type": "code",
   "execution_count": 130,
   "metadata": {},
   "outputs": [
    {
     "name": "stdout",
     "output_type": "stream",
     "text": [
      "accuracy-score:  0.758180366641905\n"
     ]
    }
   ],
   "source": [
    "print(\"accuracy-score: \", np.mean(results))"
   ]
  },
  {
   "cell_type": "code",
   "execution_count": 131,
   "metadata": {},
   "outputs": [
    {
     "name": "stdout",
     "output_type": "stream",
     "text": [
      "Fitting 3 folds for each of 500 candidates, totalling 1500 fits\n"
     ]
    },
    {
     "name": "stderr",
     "output_type": "stream",
     "text": [
      "[Parallel(n_jobs=-1)]: Using backend LokyBackend with 8 concurrent workers.\n",
      "[Parallel(n_jobs=-1)]: Done  34 tasks      | elapsed:   10.4s\n",
      "[Parallel(n_jobs=-1)]: Done 184 tasks      | elapsed:  1.1min\n",
      "[Parallel(n_jobs=-1)]: Done 434 tasks      | elapsed:  2.6min\n",
      "[Parallel(n_jobs=-1)]: Done 784 tasks      | elapsed:  4.6min\n",
      "[Parallel(n_jobs=-1)]: Done 1234 tasks      | elapsed:  7.3min\n",
      "[Parallel(n_jobs=-1)]: Done 1500 out of 1500 | elapsed:  8.8min finished\n"
     ]
    }
   ],
   "source": [
    "from sklearn.model_selection import GridSearchCV\n",
    "n_estimators = [100, 300, 500, 800, 1200]\n",
    "max_depth = [5, 8, 15, 25, 30]\n",
    "min_samples_split = [2, 5, 10, 15, 100]\n",
    "min_samples_leaf = [1, 2, 5, 10] \n",
    "\n",
    "hyperF = dict(n_estimators = n_estimators, max_depth = max_depth,  \n",
    "              min_samples_split = min_samples_split, \n",
    "             min_samples_leaf = min_samples_leaf)\n",
    "\n",
    "gridF = GridSearchCV(model, hyperF, cv = 3, verbose = 1, \n",
    "                      n_jobs = -1)\n",
    "bestF = gridF.fit(X_train, y_train)"
   ]
  },
  {
   "cell_type": "code",
   "execution_count": 133,
   "metadata": {},
   "outputs": [
    {
     "data": {
      "text/plain": [
       "{'max_depth': 5,\n",
       " 'min_samples_leaf': 1,\n",
       " 'min_samples_split': 2,\n",
       " 'n_estimators': 500}"
      ]
     },
     "execution_count": 133,
     "metadata": {},
     "output_type": "execute_result"
    }
   ],
   "source": [
    "bestF.best_params_"
   ]
  },
  {
   "cell_type": "code",
   "execution_count": 134,
   "metadata": {},
   "outputs": [],
   "source": [
    "model1 = RandomForestClassifier(max_depth=5, min_samples_split=2, n_estimators=500,\n",
    "                       random_state=24)\n",
    "model1.fit(X_train, y_train)\n",
    "y_pred = model1.predict(X_test)\n",
    "results.append(accuracy_score(y_test, y_pred))"
   ]
  },
  {
   "cell_type": "code",
   "execution_count": 135,
   "metadata": {},
   "outputs": [
    {
     "name": "stdout",
     "output_type": "stream",
     "text": [
      "accuracy-score:  0.7587988311773477\n"
     ]
    }
   ],
   "source": [
    "print(\"accuracy-score: \", np.mean(results))"
   ]
  }
 ],
 "metadata": {
  "kernelspec": {
   "display_name": "Python 3",
   "language": "python",
   "name": "python3"
  },
  "language_info": {
   "codemirror_mode": {
    "name": "ipython",
    "version": 3
   },
   "file_extension": ".py",
   "mimetype": "text/x-python",
   "name": "python",
   "nbconvert_exporter": "python",
   "pygments_lexer": "ipython3",
   "version": "3.8.5"
  }
 },
 "nbformat": 4,
 "nbformat_minor": 4
}
