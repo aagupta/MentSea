{
 "metadata": {
  "language_info": {
   "codemirror_mode": {
    "name": "ipython",
    "version": 3
   },
   "file_extension": ".py",
   "mimetype": "text/x-python",
   "name": "python",
   "nbconvert_exporter": "python",
   "pygments_lexer": "ipython3",
   "version": "3.8.5-final"
  },
  "orig_nbformat": 2,
  "kernelspec": {
   "name": "python385jvsc74a57bd0a7edc29559242b93c8de2387354c06a79d5855a6429ad88e5f2d592a2c3647cd",
   "display_name": "Python 3.8.5 64-bit ('base': conda)"
  }
 },
 "nbformat": 4,
 "nbformat_minor": 2,
 "cells": [
  {
   "cell_type": "code",
   "execution_count": 26,
   "metadata": {},
   "outputs": [],
   "source": [
    "import pandas as pd\n",
    "import numpy as np"
   ]
  },
  {
   "cell_type": "code",
   "execution_count": 39,
   "metadata": {},
   "outputs": [],
   "source": [
    "# Function to read in all of the feature selection datasets\n",
    "def readData():\n",
    "    # Read in the datasets\n",
    "    chi = pd.read_csv('/Users/aakritigupta/Desktop/Hackathon 2021/MentSea/MentSea/chi2_fs_train.csv')\n",
    "    anova = pd.read_csv('/Users/aakritigupta/Desktop/Hackathon 2021/MentSea/MentSea/ANOVA_fs_train.csv')\n",
    "    rfe = pd.read_csv('/Users/aakritigupta/Desktop/Hackathon 2021/MentSea/MentSea/rfe_fs_train.csv')\n",
    "\n",
    "    # Create a list of columns for each dataset\n",
    "    chiCols = chi.columns.tolist()\n",
    "    anovaCols = anova.columns.tolist()\n",
    "    rfeCols = rfe.columns.tolist()\n",
    "\n",
    "    # Append the chiCols and anovaCols\n",
    "    statCols = []\n",
    "    statCols.extend(chiCols)\n",
    "    statCols.extend(anovaCols)\n",
    "\n",
    "    # Drop unnamed: 0 from the list\n",
    "    for i in statCols:\n",
    "        if i == 'Unnamed: 0':\n",
    "            statCols.remove(i)\n",
    "\n",
    "    # Iterate through chiCols and anovaCols to find matches\n",
    "    # matchingCols = [i for i in statCols if i in rfeCols]\n",
    "    # x = np.intersect1d(statCols, rfeCols)\n",
    "    # setstatCols = set(statCols)\n",
    "    setrfeCols = set(rfeCols)\n",
    "\n",
    "    matchingCols = list(setrfeCols.intersection(statCols))\n",
    "\n",
    "    \n",
    "\n",
    "    return matchingCols"
   ]
  },
  {
   "cell_type": "code",
   "execution_count": 40,
   "metadata": {},
   "outputs": [
    {
     "output_type": "execute_result",
     "data": {
      "text/plain": [
       "list"
      ]
     },
     "metadata": {},
     "execution_count": 40
    }
   ],
   "source": [
    "# readData()\n",
    "a = readData()\n",
    "type(a)"
   ]
  }
 ]
}